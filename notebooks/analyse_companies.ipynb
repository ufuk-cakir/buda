{
 "cells": [
  {
   "cell_type": "markdown",
   "metadata": {},
   "source": [
    "First we map the companies inside the ad data to specific market sectors.\n",
    "\n",
    "We perform API calls to On-Demand agents to perform a lookup of the company name and return the sector. We then store the results in a dictionary to avoid repeated calls.\n",
    "\n",
    "The API calls are performed in parallel to speed up the process."
   ]
  },
  {
   "cell_type": "code",
   "execution_count": null,
   "metadata": {},
   "outputs": [
    {
     "name": "stderr",
     "output_type": "stream",
     "text": [
      "100%|██████████| 210/210 [03:44<00:00,  1.07s/it]\n"
     ]
    }
   ],
   "source": [
    "from buda.analysis import map_companies\n",
    "from buda.utils import load_data\n",
    "\n",
    "data =load_data(\"/Users/cakir/Documents/projects/buda/dummy_data/advertisers_using_your_activity.json\")\n",
    "\n",
    "\n",
    "map_companies(data, api_key=\"ekaATB5SfNplUO9FiyfCdx5snqEJgZBD\", debug=True)\n"
   ]
  },
  {
   "cell_type": "markdown",
   "metadata": {},
   "source": [
    "Create statistics for the companies and categories they belong to"
   ]
  },
  {
   "cell_type": "code",
   "execution_count": 1,
   "metadata": {},
   "outputs": [
    {
     "name": "stdout",
     "output_type": "stream",
     "text": [
      "                                             Category  Count\n",
      "0                                               Other    137\n",
      "1                                           Education     27\n",
      "2                             Media and Entertainment    358\n",
      "3                                          Technology     76\n",
      "4                                              Travel     11\n",
      "5                                          Healthcare     27\n",
      "6                                  Fashion and Beauty    148\n",
      "7                                              Retail     59\n",
      "8                                             Unknown    141\n",
      "9                                         Real Estate      7\n",
      "10                                         E-commerce     18\n",
      "11                                  Food and Beverage     47\n",
      "12                                         Consulting     77\n",
      "13                                            Finance     27\n",
      "14                                 Sports and Fitness     22\n",
      "15                                             Gaming     10\n",
      "16                                        Photography      7\n",
      "17                                     Transportation      8\n",
      "18                                         Non-profit     22\n",
      "19  PetSafe Brand is primarily associated with pet...      1\n",
      "20                                             Energy      6\n",
      "21                                        Advertising      2\n",
      "22                                        Hospitality      7\n",
      "23                                 Telecommunications      3\n",
      "24                                       Pet Products      1\n",
      "25                            Music and Entertainment      1\n"
     ]
    }
   ],
   "source": [
    "from collections import Counter\n",
    "import pandas as pd\n",
    "from buda.utils import load_data\n",
    "\n",
    "# Provided JSON data\n",
    "data = load_data(\"company_analysis_output/categorized_data.json\")\n",
    "\n",
    "# Count the occurrences of each category\n",
    "category_counts = Counter(data.values())\n",
    "\n",
    "# Convert to DataFrame for easier visualization\n",
    "df = pd.DataFrame(list(category_counts.items()), columns=[\"Category\", \"Count\"])\n",
    "\n",
    "# Display the DataFrame\n",
    "print(df)"
   ]
  },
  {
   "cell_type": "markdown",
   "metadata": {},
   "source": [
    "Map the categorize to subcategories:"
   ]
  },
  {
   "cell_type": "code",
   "execution_count": null,
   "metadata": {},
   "outputs": [
    {
     "name": "stdout",
     "output_type": "stream",
     "text": [
      "Summary saved to summary_categories.json\n"
     ]
    }
   ],
   "source": [
    "import json\n",
    "category_mapping = {\n",
    "    'Media and Entertainment': 'Media and Entertainment',\n",
    "    'Fashion and Beauty': 'Media and Entertainment',\n",
    "    'Gaming': 'Media and Entertainment',\n",
    "    'Photography': 'Media and Entertainment',\n",
    "    'Sports and Fitness': 'Media and Entertainment',\n",
    "    'Consulting': 'Business and Professional Services',\n",
    "    'Real Estate': 'Business and Professional Services',\n",
    "    'Advertising': 'Business and Professional Services',\n",
    "    'Finance': 'Business and Professional Services',\n",
    "    'Non-profit': 'Business and Professional Services',\n",
    "    'Technology': 'Technology and E-commerce',\n",
    "    'E-commerce': 'Technology and E-commerce',\n",
    "    'Retail': 'Technology and E-commerce',\n",
    "    'Healthcare': 'Health and Wellness',\n",
    "    'Food and Beverage': 'Health and Wellness',\n",
    "    'PetSafe Brand': 'Health and Wellness',\n",
    "    'Travel': 'Travel, Hospitality, and Transportation',\n",
    "    'Hospitality': 'Travel, Hospitality, and Transportation',\n",
    "    'Transportation': 'Travel, Hospitality, and Transportation',\n",
    "    'Energy': 'Energy and Utilities',\n",
    "    'Unknown': 'Uncategorized',\n",
    "    'Other': 'Uncategorized'\n",
    "}\n",
    "\n",
    "# Map categories and group by new categories\n",
    "df['Broad Category'] = df['Category'].map(category_mapping)\n",
    "summary_df = df.groupby('Broad Category')['Count'].sum().reset_index()\n",
    "\n",
    "# Convert the result to JSON\n",
    "result = summary_df.set_index('Broad Category')['Count'].to_dict()\n",
    "with open('summary_categories.json', 'w') as f:\n",
    "    json.dump(result, f, indent=4)\n",
    "\n",
    "print(\"Summary saved to summary_categories.json\")\n",
    "print(result)"
   ]
  },
  {
   "cell_type": "markdown",
   "metadata": {},
   "source": [
    "All of this is done inside the analysis function."
   ]
  },
  {
   "cell_type": "code",
   "execution_count": 2,
   "metadata": {},
   "outputs": [
    {
     "data": {
      "text/plain": [
       "{'Business and Professional Services': 17,\n",
       " 'Energy and Utilities': 1,\n",
       " 'Health and Wellness': 9,\n",
       " 'Media and Entertainment': 87,\n",
       " 'Technology and E-commerce': 21,\n",
       " 'Travel, Hospitality, and Transportation': 3,\n",
       " 'Uncategorized': 67}"
      ]
     },
     "execution_count": 2,
     "metadata": {},
     "output_type": "execute_result"
    }
   ],
   "source": [
    "from buda.analysis.companies import analyze_companies\n",
    "\n",
    "input_folder = \"company_analysis_output_ufuk\"  # folder containing categorized_data.json\n",
    "output_folder = \"../data\"\n",
    "filename = \"advertisers_using_your_activity\"\n",
    "\n",
    "analyze_companies(input_folder=input_folder, output_folder=output_folder, filename=filename)"
   ]
  },
  {
   "cell_type": "markdown",
   "metadata": {},
   "source": [
    "This will save the analysis in JSON format to the Data folder, which is then rendered in the frontend"
   ]
  }
 ],
 "metadata": {
  "kernelspec": {
   "display_name": "buda",
   "language": "python",
   "name": "python3"
  },
  "language_info": {
   "codemirror_mode": {
    "name": "ipython",
    "version": 3
   },
   "file_extension": ".py",
   "mimetype": "text/x-python",
   "name": "python",
   "nbconvert_exporter": "python",
   "pygments_lexer": "ipython3",
   "version": "3.11.8"
  }
 },
 "nbformat": 4,
 "nbformat_minor": 2
}
